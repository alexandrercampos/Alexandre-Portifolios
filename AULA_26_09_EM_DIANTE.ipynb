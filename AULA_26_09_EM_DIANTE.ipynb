{
  "nbformat": 4,
  "nbformat_minor": 0,
  "metadata": {
    "colab": {
      "provenance": [],
      "collapsed_sections": [],
      "include_colab_link": true
    },
    "kernelspec": {
      "name": "python3",
      "display_name": "Python 3"
    },
    "language_info": {
      "name": "python"
    }
  },
  "cells": [
    {
      "cell_type": "markdown",
      "metadata": {
        "id": "view-in-github",
        "colab_type": "text"
      },
      "source": [
        "<a href=\"https://colab.research.google.com/github/alexandrercampos/Alexandre-Portifolios/blob/main/AULA_26_09_EM_DIANTE.ipynb\" target=\"_parent\"><img src=\"https://colab.research.google.com/assets/colab-badge.svg\" alt=\"Open In Colab\"/></a>"
      ]
    },
    {
      "cell_type": "markdown",
      "source": [
        "***TUPLA***\n",
        "\n",
        "Funciona praticamente como a lista, porém é imutável. Por ser imutável, ela ocupa menos espaço na memória.\n",
        "\n",
        "Um tupla é criada com parênteses:\n",
        "1.   tupla=(1,2,3,4,5)\n",
        "\n"
      ],
      "metadata": {
        "id": "Q_y982uc6ev6"
      }
    },
    {
      "cell_type": "code",
      "source": [
        "numeros=(1,2,3,4,5)"
      ],
      "metadata": {
        "id": "e1GRD2eB8DgP"
      },
      "execution_count": 3,
      "outputs": []
    },
    {
      "cell_type": "code",
      "source": [
        "type(numeros)"
      ],
      "metadata": {
        "colab": {
          "base_uri": "https://localhost:8080/"
        },
        "id": "biv85LTo8JuO",
        "outputId": "6d6bfa74-990f-451f-ca4e-46bef413ace2"
      },
      "execution_count": null,
      "outputs": [
        {
          "output_type": "execute_result",
          "data": {
            "text/plain": [
              "tuple"
            ]
          },
          "metadata": {},
          "execution_count": 2
        }
      ]
    },
    {
      "cell_type": "code",
      "source": [
        "lista=[1,2,3,4,5]"
      ],
      "metadata": {
        "id": "CvFpxOJa8Lp-"
      },
      "execution_count": null,
      "outputs": []
    },
    {
      "cell_type": "code",
      "source": [
        "type(lista)"
      ],
      "metadata": {
        "colab": {
          "base_uri": "https://localhost:8080/"
        },
        "id": "CT5F5tS58Pj9",
        "outputId": "a6e9ad89-fa2d-49a3-a738-a64c4d88296b"
      },
      "execution_count": null,
      "outputs": [
        {
          "output_type": "execute_result",
          "data": {
            "text/plain": [
              "list"
            ]
          },
          "metadata": {},
          "execution_count": 4
        }
      ]
    },
    {
      "cell_type": "code",
      "source": [
        "numeros[2]"
      ],
      "metadata": {
        "colab": {
          "base_uri": "https://localhost:8080/"
        },
        "id": "e2Tuv8338TYN",
        "outputId": "e4f90586-e8f7-4d45-cb03-870a4fcfad30"
      },
      "execution_count": null,
      "outputs": [
        {
          "output_type": "execute_result",
          "data": {
            "text/plain": [
              "3"
            ]
          },
          "metadata": {},
          "execution_count": 6
        }
      ]
    },
    {
      "cell_type": "code",
      "source": [
        "del numeros #deleta toda a tupla"
      ],
      "metadata": {
        "id": "pVw6Gua28jDt"
      },
      "execution_count": null,
      "outputs": []
    },
    {
      "cell_type": "code",
      "source": [
        "print(numeros)"
      ],
      "metadata": {
        "colab": {
          "base_uri": "https://localhost:8080/"
        },
        "id": "M4vS9ZcI84i9",
        "outputId": "c470c126-dd51-41ac-ea55-11e5f1bffbf2"
      },
      "execution_count": 4,
      "outputs": [
        {
          "output_type": "stream",
          "name": "stdout",
          "text": [
            "(1, 2, 3, 4, 5)\n"
          ]
        }
      ]
    },
    {
      "cell_type": "code",
      "source": [
        "nomes=(\"Eduardo\", \"Leornado\", \"Cristina\", \"Maria\")"
      ],
      "metadata": {
        "id": "7OOIr-iI85tM"
      },
      "execution_count": null,
      "outputs": []
    },
    {
      "cell_type": "code",
      "source": [
        "print(sorted(nomes)) #O sorted, na tupla, não muda a ordem dos valores, ele cria uma cópia dos valores e organiza. Lembre-se que a tupla é imutável"
      ],
      "metadata": {
        "colab": {
          "base_uri": "https://localhost:8080/"
        },
        "id": "ewZAO2dd9IUM",
        "outputId": "92d8af5b-72f9-444b-b002-67ffc21b3753"
      },
      "execution_count": null,
      "outputs": [
        {
          "output_type": "stream",
          "name": "stdout",
          "text": [
            "['Cristina', 'Eduardo', 'Leornado', 'Maria']\n"
          ]
        }
      ]
    },
    {
      "cell_type": "code",
      "source": [
        "nomes[1]"
      ],
      "metadata": {
        "colab": {
          "base_uri": "https://localhost:8080/",
          "height": 35
        },
        "id": "46desvxq9es2",
        "outputId": "294233ca-6151-481c-81fb-3eb74489055f"
      },
      "execution_count": null,
      "outputs": [
        {
          "output_type": "execute_result",
          "data": {
            "text/plain": [
              "'Leornado'"
            ],
            "application/vnd.google.colaboratory.intrinsic+json": {
              "type": "string"
            }
          },
          "metadata": {},
          "execution_count": 26
        }
      ]
    },
    {
      "cell_type": "code",
      "source": [
        "num=(3) "
      ],
      "metadata": {
        "id": "w5hauQuP95QL"
      },
      "execution_count": null,
      "outputs": []
    },
    {
      "cell_type": "code",
      "source": [
        "type(num) #Perceba que mesmo colocando no formato da tupla, aqui estamos criando uma variável do tipo int."
      ],
      "metadata": {
        "colab": {
          "base_uri": "https://localhost:8080/"
        },
        "id": "-2ogJO06-Saa",
        "outputId": "11fe5890-5fdd-46e0-cc34-166202e4ca2b"
      },
      "execution_count": null,
      "outputs": [
        {
          "output_type": "execute_result",
          "data": {
            "text/plain": [
              "int"
            ]
          },
          "metadata": {},
          "execution_count": 24
        }
      ]
    },
    {
      "cell_type": "code",
      "source": [
        "print(nomes.index(\"Leonardo\")) #O índice do nome \"Leonardo\", não muda, mesmo depois do sorted."
      ],
      "metadata": {
        "colab": {
          "base_uri": "https://localhost:8080/"
        },
        "id": "EDTUvsgi-ZFp",
        "outputId": "e1b7f8c3-940c-4bd3-f67f-e61356d1c3e7"
      },
      "execution_count": null,
      "outputs": [
        {
          "output_type": "stream",
          "name": "stdout",
          "text": [
            "3\n"
          ]
        }
      ]
    },
    {
      "cell_type": "code",
      "source": [
        "num2=(3,) #colocando a vírgula nós estamos declarando que a variável será um tupla de apenas um valor."
      ],
      "metadata": {
        "id": "gb_URunm-xUa"
      },
      "execution_count": null,
      "outputs": []
    },
    {
      "cell_type": "code",
      "source": [
        "type(num2)"
      ],
      "metadata": {
        "colab": {
          "base_uri": "https://localhost:8080/"
        },
        "id": "sAJUHCVU_KuY",
        "outputId": "e0ccde88-c4c6-48f4-adc1-6820b230a55d"
      },
      "execution_count": null,
      "outputs": [
        {
          "output_type": "execute_result",
          "data": {
            "text/plain": [
              "tuple"
            ]
          },
          "metadata": {},
          "execution_count": 28
        }
      ]
    },
    {
      "cell_type": "code",
      "source": [
        "teste=tuple(range(11)) #criar uma tupla com o range."
      ],
      "metadata": {
        "id": "laYMXz5V_M8n"
      },
      "execution_count": null,
      "outputs": []
    },
    {
      "cell_type": "code",
      "source": [
        "print(teste)"
      ],
      "metadata": {
        "colab": {
          "base_uri": "https://localhost:8080/"
        },
        "id": "DjbP9jFm_ShX",
        "outputId": "cb0322bb-c16f-48a1-a43b-9a61a73cb39b"
      },
      "execution_count": null,
      "outputs": [
        {
          "output_type": "stream",
          "name": "stdout",
          "text": [
            "(0, 1, 2, 3, 4, 5, 6, 7, 8, 9, 10)\n"
          ]
        }
      ]
    },
    {
      "cell_type": "code",
      "source": [
        "#Fatia uma tupla. Serve para dividir a tupla, o que facilita em buscas caso a tupla seja muito grande\n",
        "\n",
        "teste[3:10:2] #Inicia no 3 e mostra até o 10(exclusive)"
      ],
      "metadata": {
        "colab": {
          "base_uri": "https://localhost:8080/"
        },
        "id": "0oe8S7Ga_bQW",
        "outputId": "5caa1528-5c33-4df8-c17e-3567d997ccfd"
      },
      "execution_count": null,
      "outputs": [
        {
          "output_type": "execute_result",
          "data": {
            "text/plain": [
              "(3, 5, 7, 9)"
            ]
          },
          "metadata": {},
          "execution_count": 35
        }
      ]
    },
    {
      "cell_type": "code",
      "source": [
        "teste[3:10:2] #Inicia no 3, vai até o 10, de 2 em 2"
      ],
      "metadata": {
        "colab": {
          "base_uri": "https://localhost:8080/"
        },
        "id": "utyMQ_wKAHs3",
        "outputId": "af79604f-74e6-4a3c-8baa-e23bb740fd61"
      },
      "execution_count": null,
      "outputs": [
        {
          "output_type": "execute_result",
          "data": {
            "text/plain": [
              "(3, 5, 7, 9)"
            ]
          },
          "metadata": {},
          "execution_count": 36
        }
      ]
    },
    {
      "cell_type": "code",
      "source": [
        "teste[:5] #Vai até o cinco, mas exclui ele"
      ],
      "metadata": {
        "colab": {
          "base_uri": "https://localhost:8080/"
        },
        "id": "kuL6DUAhAXvV",
        "outputId": "5a906602-a3df-44f0-d5ea-e2170b365e32"
      },
      "execution_count": null,
      "outputs": [
        {
          "output_type": "execute_result",
          "data": {
            "text/plain": [
              "(0, 1, 2, 3, 4)"
            ]
          },
          "metadata": {},
          "execution_count": 37
        }
      ]
    },
    {
      "cell_type": "code",
      "source": [
        "teste[5:] #começa do número 5 até o final"
      ],
      "metadata": {
        "colab": {
          "base_uri": "https://localhost:8080/"
        },
        "id": "t7scyqw3Af8F",
        "outputId": "84c79afb-20fd-4f9c-90f9-d126e92a3a70"
      },
      "execution_count": null,
      "outputs": [
        {
          "output_type": "execute_result",
          "data": {
            "text/plain": [
              "(5, 6, 7, 8, 9, 10)"
            ]
          },
          "metadata": {},
          "execution_count": 38
        }
      ]
    },
    {
      "cell_type": "code",
      "source": [
        "teste[-1] #mostra o último da tupla."
      ],
      "metadata": {
        "colab": {
          "base_uri": "https://localhost:8080/"
        },
        "id": "FtkdJuKLAkcl",
        "outputId": "895ec8ed-3281-402d-8f45-30b79c4b435d"
      },
      "execution_count": null,
      "outputs": [
        {
          "output_type": "execute_result",
          "data": {
            "text/plain": [
              "10"
            ]
          },
          "metadata": {},
          "execution_count": 39
        }
      ]
    },
    {
      "cell_type": "code",
      "source": [
        "#Carregar uma tupla pelo input\n",
        "\n",
        "num=()\n",
        "\n",
        "for i in range(5):\n",
        "  x=int(input(\"Digite um número: \"))\n",
        "  num= num + tuple([x])\n",
        "\n",
        "print(num)"
      ],
      "metadata": {
        "colab": {
          "base_uri": "https://localhost:8080/"
        },
        "id": "BfN8auzLAyok",
        "outputId": "9f606409-c5e1-498d-cfac-9a996ef9e7b2"
      },
      "execution_count": null,
      "outputs": [
        {
          "output_type": "stream",
          "name": "stdout",
          "text": [
            "Digite um número: 8\n",
            "Digite um número: 6\n",
            "Digite um número: 4\n",
            "Digite um número: 2\n",
            "Digite um número: 0\n",
            "(8, 6, 4, 2, 0)\n"
          ]
        }
      ]
    },
    {
      "cell_type": "code",
      "source": [
        "#outra forma de carregar uma tupla pelo o input\n",
        "\n",
        "num2 = ()\n",
        "for i in range(5):\n",
        "  x= int(input('Digite um numero: '))\n",
        "  num2 = num2 + (x,)\n",
        "\n",
        "print(num2)"
      ],
      "metadata": {
        "colab": {
          "base_uri": "https://localhost:8080/"
        },
        "id": "XHkEHfy4Bn5Y",
        "outputId": "fcf54be4-e5c7-4050-b213-6c21415178c0"
      },
      "execution_count": null,
      "outputs": [
        {
          "output_type": "stream",
          "name": "stdout",
          "text": [
            "Digite um numero: 5\n",
            "Digite um numero: 4\n",
            "Digite um numero: 8\n",
            "Digite um numero: 9\n",
            "Digite um numero: 1\n",
            "(5, 4, 8, 9, 1)\n"
          ]
        }
      ]
    },
    {
      "cell_type": "markdown",
      "source": [
        "EXERCICIOS\n",
        "\n",
        "1. Crie um programa que leia um número do teclado e imprima, dependendo do numero digitado, o dia da semana. Seu programa deverá reperitr a entrada até que seja digitado o número 9.\n",
        "Para armazenar os dias da semana, utilizar uma tupla."
      ],
      "metadata": {
        "id": "iJs78vjNCPKe"
      }
    },
    {
      "cell_type": "code",
      "source": [
        "dias=('Domingão abençoado', 'Segunda-Feira', 'Terça-feira', 'Quarta-feira', 'Quinta-feira', 'Sexta-feira das mulheres', 'Sabão graças a Deus')"
      ],
      "metadata": {
        "id": "l6gP42sKCOt3"
      },
      "execution_count": null,
      "outputs": []
    },
    {
      "cell_type": "code",
      "source": [
        "type(dias)"
      ],
      "metadata": {
        "colab": {
          "base_uri": "https://localhost:8080/"
        },
        "id": "HtHFu8R-DWEY",
        "outputId": "4e8e73d2-8087-46ed-cd3a-6c991c1bde05"
      },
      "execution_count": null,
      "outputs": [
        {
          "output_type": "execute_result",
          "data": {
            "text/plain": [
              "tuple"
            ]
          },
          "metadata": {},
          "execution_count": 7
        }
      ]
    },
    {
      "cell_type": "code",
      "source": [
        "while True:\n",
        "  numero=int(input('Digite um dia que represente um dia da semana de 0 a 6 ou aperte 9 para sair: '))\n",
        "\n",
        "  if numero==9:\n",
        "   print(f\"Escolheu errado ai meu camarada!\")\n",
        "   break\n",
        "  elif numero<=6 or numero>=0:\n",
        "   print(f'Seu dia da semana é', dias[numero])\n",
        "  else:\n",
        "    print(\"Escolheu errado ai meu camarada!\")"
      ],
      "metadata": {
        "colab": {
          "base_uri": "https://localhost:8080/"
        },
        "id": "unZMJlQyDZTw",
        "outputId": "6b51b862-ed16-4db7-89f8-96d8eff41df2"
      },
      "execution_count": null,
      "outputs": [
        {
          "output_type": "stream",
          "name": "stdout",
          "text": [
            "Digite um dia que represente um dia da semana de 0 a 6 ou aperte 9 para sair: 0\n",
            "Seu dia da semana é Domingão abençoado\n",
            "Digite um dia que represente um dia da semana de 0 a 6 ou aperte 9 para sair: 4\n",
            "Seu dia da semana é Quinta-feira\n",
            "Digite um dia que represente um dia da semana de 0 a 6 ou aperte 9 para sair: 9\n",
            "Escolheu errado ai meu camarada!\n"
          ]
        }
      ]
    },
    {
      "cell_type": "markdown",
      "source": [
        "2. Crie uma tupla preenchida com os 10 primeiros colocados do campeonato paulista de futebol(2022), em ordem de colocação, depois mostre:\n",
        " - Os 3 primeiros\n",
        " - os 3 ultimos\n",
        " - Os tims em ordem alfabética\n",
        " - em que posição está o bragantino"
      ],
      "metadata": {
        "id": "3-aUinGdP0Dm"
      }
    },
    {
      "cell_type": "code",
      "source": [
        "times=('Palmeiras', 'São paulo', 'Corinthians','Bragantino', 'Ituano', 'Botafogo-SP', 'Mirassol', 'São Bernardo', 'Guarani', 'Santo André')"
      ],
      "metadata": {
        "id": "tL65Kpe-PxOB"
      },
      "execution_count": null,
      "outputs": []
    },
    {
      "cell_type": "code",
      "source": [
        "type (times)"
      ],
      "metadata": {
        "colab": {
          "base_uri": "https://localhost:8080/"
        },
        "id": "4L5x0WsOPw5h",
        "outputId": "504a4d60-3792-45dc-f707-2af60611dc32"
      },
      "execution_count": null,
      "outputs": [
        {
          "output_type": "execute_result",
          "data": {
            "text/plain": [
              "tuple"
            ]
          },
          "metadata": {},
          "execution_count": 30
        }
      ]
    },
    {
      "cell_type": "code",
      "source": [
        "print(f'Os três primeiros times colocados são:',times[0:3])"
      ],
      "metadata": {
        "colab": {
          "base_uri": "https://localhost:8080/"
        },
        "id": "Sco2dyboQqEE",
        "outputId": "a15f7d62-12e7-4567-b97f-34f830b498c6"
      },
      "execution_count": null,
      "outputs": [
        {
          "output_type": "stream",
          "name": "stdout",
          "text": [
            "Os três primeiros times colocados são: ('Palmeiras', 'São paulo', 'Corinthians')\n"
          ]
        }
      ]
    },
    {
      "cell_type": "code",
      "source": [
        "print(f'Os três últimos times colocados são:',times[7:])"
      ],
      "metadata": {
        "colab": {
          "base_uri": "https://localhost:8080/"
        },
        "id": "xEAxCUPcQ9uE",
        "outputId": "36927500-3ca6-420a-9a4d-f2a7193c48cc"
      },
      "execution_count": null,
      "outputs": [
        {
          "output_type": "stream",
          "name": "stdout",
          "text": [
            "Os três últimos times colocados são: ('São Bernardo', 'Guarani', 'Santo André')\n"
          ]
        }
      ]
    },
    {
      "cell_type": "code",
      "source": [
        "print(f'Os times em ordem alfabética:',sorted(times))"
      ],
      "metadata": {
        "colab": {
          "base_uri": "https://localhost:8080/"
        },
        "id": "BNhDVmFnRCjD",
        "outputId": "7463a685-6c27-43c6-8586-dd23aa89de95"
      },
      "execution_count": null,
      "outputs": [
        {
          "output_type": "stream",
          "name": "stdout",
          "text": [
            "Os times em ordem alfabética: ['Botafogo-SP', 'Bragantino', 'Corinthians', 'Guarani', 'Ituano', 'Mirassol', 'Palmeiras', 'Santo André', 'São Bernardo', 'São paulo']\n"
          ]
        }
      ]
    },
    {
      "cell_type": "code",
      "source": [
        "print(f'A posição do Bragantino é:',times.index('Bragantino')+1)"
      ],
      "metadata": {
        "colab": {
          "base_uri": "https://localhost:8080/"
        },
        "id": "2Aa-bmm0R-ib",
        "outputId": "54b39311-ef4e-449f-e916-1913ca9abf3e"
      },
      "execution_count": null,
      "outputs": [
        {
          "output_type": "stream",
          "name": "stdout",
          "text": [
            "A posição do Bragantino é: 4\n"
          ]
        }
      ]
    },
    {
      "cell_type": "markdown",
      "source": [
        "### **AULA 03/10**"
      ],
      "metadata": {
        "id": "mIZhBqTW6SfP"
      }
    },
    {
      "cell_type": "markdown",
      "source": [
        "EXERCICIOS\n",
        "\n",
        "1 - Faça um programa em phyton que converta metros em centimetros.\n",
        "\n",
        "2 - Faça um programa que leia um valor inteiro de 1 a 10 e mostre a tabulada do valor lido\n",
        "\n",
        "3 - Faça um programa que leia o salário de um funcionário e calcule o reajuste de acordo com a tabela a seguir. No final, mostre o novo salário\n",
        "\n",
        "ABAIXO DE R$ 2.500,00   =  15 (PORCENTO)\n",
        "DE R$ 2.500,00 ATÉ R$ 4.000,00  = 10 (PORCENTO)\n",
        "ACIMA DE R$ 4.000,00 = 5 (PORCENTO)\n",
        "\n",
        "4 - Faça um programa que carregue valores em duas listas em seguida junte as duas listas e mostre o conteudo da junção\n",
        "\n",
        "5 - faça um programa que procure um determinado valor em uma lista, se encontrar, mostre o valor.\n",
        "\n",
        "6 - carregue uma lista com 20 numeros inteiros. Armazene os numeros pares em uma lista PAR e os numeros impares em uma lista IMPAR.\n",
        "\n",
        "7 - Leia 4 valores do teclado e armazene em uma tupla em seguida mostre:\n",
        "  - quantas vezes apareceu o numero 9\n",
        "  - em que posição foi digitado o numero 3\n",
        "  - quais foram os números pares"
      ],
      "metadata": {
        "id": "Ss5zHjcg8U0D"
      }
    },
    {
      "cell_type": "markdown",
      "source": [],
      "metadata": {
        "id": "OimxdlAA6Xdn"
      }
    },
    {
      "cell_type": "code",
      "source": [
        "cm=int(input('Digite o valor em centimetros para ser convertido em metros: '))\n",
        "\n",
        "\n",
        "print(f'O seu valor ditigado convertido para metros é:',cm/100)\n"
      ],
      "metadata": {
        "colab": {
          "base_uri": "https://localhost:8080/"
        },
        "id": "gKWqIGWX6Wjv",
        "outputId": "82db0bc1-183f-4dfe-faff-010eea1bb690"
      },
      "execution_count": null,
      "outputs": [
        {
          "output_type": "stream",
          "name": "stdout",
          "text": [
            "Digite o valor em centimetros para ser convertido em metros: 100\n",
            "O seu valor ditigado convertido para metros é: 1.0\n"
          ]
        }
      ]
    },
    {
      "cell_type": "code",
      "source": [
        "x=int(input('Digite qual tabuada você deseja: '))\n",
        "n=1\n",
        "\n",
        "if 1<=x<=10:\n",
        "  while 1<=x<=10 and 1<=n<=10:\n",
        "    print(f\"{x} x {n} = {x*n}\")\n",
        "    n=n+1\n",
        "else: \n",
        "  print(\"Esse ai eu não consigo fazer amigao, é até o 10\")\n",
        "\n",
        "\n",
        "\n"
      ],
      "metadata": {
        "colab": {
          "base_uri": "https://localhost:8080/"
        },
        "id": "C46a0JCF950V",
        "outputId": "e11644e6-ca63-49a5-cfa6-9d37ea1ac817"
      },
      "execution_count": null,
      "outputs": [
        {
          "output_type": "stream",
          "name": "stdout",
          "text": [
            "Digite qual tabuada você deseja: 2\n",
            "2 x 1 = 2\n",
            "2 x 2 = 4\n",
            "2 x 3 = 6\n",
            "2 x 4 = 8\n",
            "2 x 5 = 10\n",
            "2 x 6 = 12\n",
            "2 x 7 = 14\n",
            "2 x 8 = 16\n",
            "2 x 9 = 18\n",
            "2 x 10 = 20\n"
          ]
        }
      ]
    },
    {
      "cell_type": "code",
      "source": [
        "salario=int(input(\"Digite o valor do seu sálario:\\n\"))\n",
        "\n",
        "\n",
        "if salario <= 2500:\n",
        "    a=(salario*15)/100\n",
        "    ns=p+salario\n",
        "    print(f\"Você terá um aumento de R$\",p)\n",
        "    print(f\"Seu novo salário será de R$\",ns)\n",
        "elif salario > 2500 and salario <= 4000:\n",
        "    p=(salario*10)/100\n",
        "    ns=p+salario\n",
        "    print(f\"Você terá um aumento de R$\",p)\n",
        "    print(f\"Seu novo salário será de R$\",ns)\n",
        "elif salario > 4000:\n",
        "    p=(salario*5)/100\n",
        "    ns=p+salario\n",
        "    print(f\"Você terá um aumento de R$\",p)\n",
        "    print(f\"Seu novo salário será de R$\",ns)\n"
      ],
      "metadata": {
        "colab": {
          "base_uri": "https://localhost:8080/"
        },
        "id": "-GQMQ0ogHIfG",
        "outputId": "1e317a4a-172d-41c2-8695-bf9f6ca45e88"
      },
      "execution_count": null,
      "outputs": [
        {
          "output_type": "stream",
          "name": "stdout",
          "text": [
            "Digite o valor do seu sálario:\n",
            "2500\n",
            "Você terá um aumento de R$ 150.0\n",
            "Seu novo salário será de R$ 2650.0\n"
          ]
        }
      ]
    },
    {
      "cell_type": "code",
      "source": [
        "lista1=list()\n",
        "lista2=list()\n",
        "\n",
        "for i in range(0,5):\n",
        "  lista1.append(int(input('Digite 5 numeros para a lista 1: ')))\n",
        "for i in range(0,5):\n",
        "  lista2.append(int(input('Digite 5 numeros para a lista 2: ')))\n",
        "\n",
        "lista3= lista1+lista2\n",
        "\n",
        "print(f\"A junção dos valores das listas é: \",lista3)"
      ],
      "metadata": {
        "colab": {
          "base_uri": "https://localhost:8080/"
        },
        "id": "I4bdypiSK5_c",
        "outputId": "3b99b0d2-7057-477d-b3e2-82a5a07ee7f2"
      },
      "execution_count": null,
      "outputs": [
        {
          "output_type": "stream",
          "name": "stdout",
          "text": [
            "Digite 5 numeros para a lista 1: 1\n",
            "Digite 5 numeros para a lista 1: 2\n",
            "Digite 5 numeros para a lista 1: 3\n",
            "Digite 5 numeros para a lista 1: 4\n",
            "Digite 5 numeros para a lista 1: 5\n",
            "Digite 5 numeros para a lista 2: 6\n",
            "Digite 5 numeros para a lista 2: 7\n",
            "Digite 5 numeros para a lista 2: 8\n",
            "Digite 5 numeros para a lista 2: 9\n",
            "Digite 5 numeros para a lista 2: 10\n",
            "A junção dos valores das listas é:  [1, 2, 3, 4, 5, 6, 7, 8, 9, 10]\n"
          ]
        }
      ]
    }
  ]
}
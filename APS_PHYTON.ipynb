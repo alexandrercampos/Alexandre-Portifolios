{
  "nbformat": 4,
  "nbformat_minor": 0,
  "metadata": {
    "colab": {
      "provenance": [],
      "collapsed_sections": [],
      "authorship_tag": "ABX9TyOaocRV2ybRRQNvQ9ihC9ME",
      "include_colab_link": true
    },
    "kernelspec": {
      "name": "python3",
      "display_name": "Python 3"
    },
    "language_info": {
      "name": "python"
    }
  },
  "cells": [
    {
      "cell_type": "markdown",
      "metadata": {
        "id": "view-in-github",
        "colab_type": "text"
      },
      "source": [
        "<a href=\"https://colab.research.google.com/github/alexandrercampos/Alexandre-Portifolios/blob/main/APS_PHYTON.ipynb\" target=\"_parent\"><img src=\"https://colab.research.google.com/assets/colab-badge.svg\" alt=\"Open In Colab\"/></a>"
      ]
    },
    {
      "cell_type": "code",
      "execution_count": null,
      "metadata": {
        "colab": {
          "base_uri": "https://localhost:8080/"
        },
        "id": "PDcwRr-6EVCN",
        "outputId": "b962ad05-6437-4395-c006-d0b591ef87e1"
      },
      "outputs": [
        {
          "output_type": "stream",
          "name": "stdout",
          "text": [
            "Digite seu ano de nascimento:\n",
            "1997\n",
            "Digite seu mês de nascimento:\n",
            "12\n",
            "Digite seu dia de nascimento:\n",
            "16\n",
            "Você já viveu 9136 dias\n"
          ]
        }
      ],
      "source": [
        "ano=int(input(\"Digite seu ano de nascimento:\\n\"))\n",
        "mes=int(input(\"Digite seu mês de nascimento:\\n\"))\n",
        "dia=int(input(\"Digite seu dia de nascimento:\\n\"))\n",
        "\n",
        "if mes>=1 and mes<=12 and dia>=1 and dia<=30:\n",
        "  aa=2021-ano\n",
        "  r=(aa*365)+(mes*30)+dia\n",
        "\n",
        "  print(f\"Você já viveu {r} dias\")\n",
        "\n",
        "else:\n",
        "  print(\"Data inserida está errada, tente novamente\")"
      ]
    },
    {
      "cell_type": "code",
      "source": [
        "import math\n",
        "\n",
        "a=float(input(\"Digite o valor do coeficiente a:\\n\"))\n",
        "b=float(input(\"Digite o valor do coeficiente b:\\n\"))\n",
        "c=float(input(\"Digite o valor do coeficiente c:\\n\"))\n",
        "\n",
        "if a!=0:\n",
        "  delta= ((b*b) - (4*(a*c)))\n",
        "  print(f\"O delta deu {delta}\")\n",
        "  if delta<0:\n",
        "    x1=0\n",
        "    x2=0\n",
        "    print(f\"Não existe raíz real, logo x1={x1} e x2={x2}\")\n",
        "  elif delta==0:\n",
        "      x1=((-b)+(math.sqrt(delta)))/(2*a)\n",
        "      x2=0\n",
        "      print(f\"Existe apenas uma raíz real, em que x1={x1: .2f} e x2={x2}\")\n",
        "  elif delta>0:\n",
        "        x1=((-b)+(math.sqrt(delta)))/(2*a)\n",
        "        x2=((-b)-(math.sqrt(delta)))/(2*a)\n",
        "        print(f\"Existem duas raízes reais, em que x1={x1: .2f} e x2={x2: .2f}\")\n",
        "else:\n",
        "  print(\"O coeficiente a não pode ser igual a zero,digite outro valor\")"
      ],
      "metadata": {
        "colab": {
          "base_uri": "https://localhost:8080/"
        },
        "id": "-oQoui_hEdI-",
        "outputId": "d3ab8fc4-bc58-4714-a9bf-8543db9c2046"
      },
      "execution_count": null,
      "outputs": [
        {
          "output_type": "stream",
          "name": "stdout",
          "text": [
            "Digite o valor do coeficiente a:\n",
            "2\n",
            "Digite o valor do coeficiente b:\n",
            "4\n",
            "Digite o valor do coeficiente c:\n",
            "8448484\n",
            "O delta deu -67587856.0\n",
            "Não existe raíz real, logo x1=0 e x2=0\n"
          ]
        }
      ]
    },
    {
      "cell_type": "code",
      "source": [
        "salario=int(input(\"Digite o valor do seu sálario:\\n\"))\n",
        "\n",
        "if salario!=0 and salario>0:\n",
        "  if salario>0 and salario<=400:\n",
        "    p=(salario*15)/100\n",
        "    ns=p+salario\n",
        "    print(f\"Você terá um aumento de R${p:.2f}\")\n",
        "    print(f\"Seu novo salário será de R${ns:.2f}\")\n",
        "  elif salario>=400.01 and salario<=800:\n",
        "    p=(salario*12)/100\n",
        "    ns=p+salario\n",
        "    print(f\"Você terá um aumento de R${p:.2f}\")\n",
        "    print(f\"Seu novo salário será de R${ns:.2f}\")\n",
        "  elif salario>=800.01 and salario<=1200:\n",
        "    p=(salario*10)/100\n",
        "    ns=p+salario\n",
        "    print(f\"Você terá um aumento de R${p:.2f}\")\n",
        "    print(f\"Seu novo salário será de R$\")\n",
        "  elif salario>=1200.01 and salario<=2000:\n",
        "    p=(salario*7)/100\n",
        "    ns=p+salario\n",
        "    print(f\"Você terá um aumento de R${p:.2f}\")\n",
        "    print(f\"Seu novo salário será de R${ns:.2f}\")\n",
        "  else:\n",
        "     p=(salario*4)/100\n",
        "     ns=p+salario\n",
        "     print(f\"Você terá um aumento de R${p:.2f}\")\n",
        "     print(f\"Seu novo salário será de R${ns:.2f}\")\n",
        "else:\n",
        "  print(\"Valor inválido,tente novamente\")"
      ],
      "metadata": {
        "id": "aXHIIRuzEiRJ",
        "outputId": "03fed81e-e950-4780-aca6-0ec901096ec5",
        "colab": {
          "base_uri": "https://localhost:8080/"
        }
      },
      "execution_count": null,
      "outputs": [
        {
          "output_type": "stream",
          "name": "stdout",
          "text": [
            "Digite o valor do seu sálario:\n",
            "1800\n",
            "Você terá um aumento de R$126.00\n",
            "Seu novo salário será de R$1926.00\n"
          ]
        }
      ]
    }
  ]
}
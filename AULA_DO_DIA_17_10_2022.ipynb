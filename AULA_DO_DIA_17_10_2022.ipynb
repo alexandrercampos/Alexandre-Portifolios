{
  "nbformat": 4,
  "nbformat_minor": 0,
  "metadata": {
    "colab": {
      "provenance": [],
      "collapsed_sections": [],
      "authorship_tag": "ABX9TyPLTbIxLF0RvwW7OnsJsseG",
      "include_colab_link": true
    },
    "kernelspec": {
      "name": "python3",
      "display_name": "Python 3"
    },
    "language_info": {
      "name": "python"
    }
  },
  "cells": [
    {
      "cell_type": "markdown",
      "metadata": {
        "id": "view-in-github",
        "colab_type": "text"
      },
      "source": [
        "<a href=\"https://colab.research.google.com/github/alexandrercampos/Alexandre-Portifolios/blob/main/AULA_DO_DIA_17_10_2022.ipynb\" target=\"_parent\"><img src=\"https://colab.research.google.com/assets/colab-badge.svg\" alt=\"Open In Colab\"/></a>"
      ]
    },
    {
      "cell_type": "markdown",
      "source": [
        "1 -  "
      ],
      "metadata": {
        "id": "ysJ04XwMLGf3"
      }
    },
    {
      "cell_type": "code",
      "execution_count": null,
      "metadata": {
        "id": "Vd_WHAClA-o-"
      },
      "outputs": [],
      "source": [
        "pessoas = {'Carlos':15, 'Mario':21,'João':25}"
      ]
    },
    {
      "cell_type": "code",
      "source": [
        "pessoas"
      ],
      "metadata": {
        "colab": {
          "base_uri": "https://localhost:8080/"
        },
        "id": "0Miwqz7cNs9H",
        "outputId": "ac7bfc60-9458-401d-fd4e-3e2d9216af62"
      },
      "execution_count": null,
      "outputs": [
        {
          "output_type": "execute_result",
          "data": {
            "text/plain": [
              "{'Carlos': 15, 'Mario': 21, 'João': 25}"
            ]
          },
          "metadata": {},
          "execution_count": 9
        }
      ]
    },
    {
      "cell_type": "code",
      "source": [
        "type(pessoas)"
      ],
      "metadata": {
        "colab": {
          "base_uri": "https://localhost:8080/"
        },
        "id": "s2nR_A9hNv1t",
        "outputId": "5dc17ecf-6fb4-4b54-a927-51065d73fe93"
      },
      "execution_count": null,
      "outputs": [
        {
          "output_type": "execute_result",
          "data": {
            "text/plain": [
              "dict"
            ]
          },
          "metadata": {},
          "execution_count": 12
        }
      ]
    },
    {
      "cell_type": "code",
      "source": [
        "pessoas2 = {'Nome': 'João', 'Idade':25}"
      ],
      "metadata": {
        "id": "A4kMgMvtONGs"
      },
      "execution_count": null,
      "outputs": []
    },
    {
      "cell_type": "code",
      "source": [
        "type(pessoas2)"
      ],
      "metadata": {
        "colab": {
          "base_uri": "https://localhost:8080/"
        },
        "id": "Riml00FKOe4M",
        "outputId": "2031b898-eeb7-4f2d-9e59-58a281e2d246"
      },
      "execution_count": null,
      "outputs": [
        {
          "output_type": "execute_result",
          "data": {
            "text/plain": [
              "dict"
            ]
          },
          "metadata": {},
          "execution_count": 15
        }
      ]
    },
    {
      "cell_type": "code",
      "source": [
        "pessoas2"
      ],
      "metadata": {
        "colab": {
          "base_uri": "https://localhost:8080/"
        },
        "id": "x2BGsORNOgH7",
        "outputId": "f989366d-e603-4ee2-827a-b11c02cc13c7"
      },
      "execution_count": null,
      "outputs": [
        {
          "output_type": "execute_result",
          "data": {
            "text/plain": [
              "{'Nome': 'João', 'Idade': 25}"
            ]
          },
          "metadata": {},
          "execution_count": 16
        }
      ]
    },
    {
      "cell_type": "code",
      "source": [
        "pessoas2 ['idade'] # Quando colocamos a chave entre colchetes, nós estamos pedindo para retornar o valor daquela chave."
      ],
      "metadata": {
        "colab": {
          "base_uri": "https://localhost:8080/"
        },
        "id": "uW2ALqD0Oher",
        "outputId": "7e4a3ea5-2f74-4ec8-ebd5-ea450ad25f9c"
      },
      "execution_count": null,
      "outputs": [
        {
          "output_type": "execute_result",
          "data": {
            "text/plain": [
              "25"
            ]
          },
          "metadata": {},
          "execution_count": 25
        }
      ]
    },
    {
      "cell_type": "code",
      "source": [
        "print(f'{pessoas2[\"Nome\"]} tem {pessoas2[\"Idade\"]} anos.') "
      ],
      "metadata": {
        "colab": {
          "base_uri": "https://localhost:8080/"
        },
        "id": "wybqESpuOohr",
        "outputId": "6e61241d-4393-4844-d7b6-492a5df6d1be"
      },
      "execution_count": null,
      "outputs": [
        {
          "output_type": "stream",
          "name": "stdout",
          "text": [
            "João tem 25 anos.\n"
          ]
        }
      ]
    },
    {
      "cell_type": "code",
      "source": [
        "pessoas2.keys() #imprime as chaves do dicinários"
      ],
      "metadata": {
        "colab": {
          "base_uri": "https://localhost:8080/"
        },
        "id": "YckxY185PhiT",
        "outputId": "569a0226-d0a7-4cfc-fcfc-10fd245b17d9"
      },
      "execution_count": null,
      "outputs": [
        {
          "output_type": "execute_result",
          "data": {
            "text/plain": [
              "dict_keys(['nome', 'idade'])"
            ]
          },
          "metadata": {},
          "execution_count": 29
        }
      ]
    },
    {
      "cell_type": "code",
      "source": [
        "pessoas.values() #imprime os valores do dicionario"
      ],
      "metadata": {
        "colab": {
          "base_uri": "https://localhost:8080/"
        },
        "id": "A_x_QysuPxc4",
        "outputId": "5d6f0206-9655-4ae3-87db-4d797a5ac425"
      },
      "execution_count": null,
      "outputs": [
        {
          "output_type": "execute_result",
          "data": {
            "text/plain": [
              "dict_values([15, 21, 25])"
            ]
          },
          "metadata": {},
          "execution_count": 30
        }
      ]
    },
    {
      "cell_type": "code",
      "source": [
        "pessoas2.items() # imprime todo o conteudo do dicionario"
      ],
      "metadata": {
        "colab": {
          "base_uri": "https://localhost:8080/"
        },
        "id": "Yiij7CpXP4sJ",
        "outputId": "e1e3ff24-5925-4813-e834-f31d5ed1e596"
      },
      "execution_count": null,
      "outputs": [
        {
          "output_type": "execute_result",
          "data": {
            "text/plain": [
              "dict_items([('nome', 'João'), ('idade', 25)])"
            ]
          },
          "metadata": {},
          "execution_count": 33
        }
      ]
    },
    {
      "cell_type": "code",
      "source": [
        "#Para incuir um novo item do dicionário \n",
        "\n",
        "pessoas2['Sexo'] = 'M'"
      ],
      "metadata": {
        "id": "Wr4bOwDcQEXY"
      },
      "execution_count": null,
      "outputs": []
    },
    {
      "cell_type": "code",
      "source": [
        "#iterando e imprimindo um dicionário\n",
        "\n",
        "for k,v in pessoas2.items():\n",
        "  print(f'{k}: {v}')  # K de key, V de values"
      ],
      "metadata": {
        "colab": {
          "base_uri": "https://localhost:8080/"
        },
        "id": "UQ2_MZbPQSSI",
        "outputId": "28d81fc4-534a-4d53-ae22-4a41bf9ea80f"
      },
      "execution_count": null,
      "outputs": [
        {
          "output_type": "stream",
          "name": "stdout",
          "text": [
            "Nome: João\n",
            "Idade: 25\n",
            "Sexo: M\n"
          ]
        }
      ]
    },
    {
      "cell_type": "code",
      "source": [
        "# Carregando um dicionário pelo teclado (input)\n",
        "\n",
        "dados = {}\n",
        "\n",
        "dados ['Nome'] = input('Nome: ')\n",
        "dados ['Idade'] = int(input('Idade: '))\n",
        "dados ['Salário'] = float(input('Salário: '))\n",
        "\n",
        "print(dados)"
      ],
      "metadata": {
        "colab": {
          "base_uri": "https://localhost:8080/"
        },
        "id": "qt7N-U05Q7X3",
        "outputId": "ed4d8265-e40c-4311-c5d4-f6af7a688e2e"
      },
      "execution_count": null,
      "outputs": [
        {
          "output_type": "stream",
          "name": "stdout",
          "text": [
            "Nome: Andrezinho\n",
            "Idade: 19\n",
            "Salário: 1000\n",
            "{'Nome': 'Andrezinho', 'Idade': 19, 'Salário': 1000.0}\n"
          ]
        }
      ]
    },
    {
      "cell_type": "code",
      "source": [
        "#Inserindo dicionarios em uma lista\n",
        "\n",
        "estado1 = {'UF': 'São Paulo', 'Sigla': 'SP'}\n",
        "estado2 = {'UF': 'Minas Gerais', 'Sigla': 'SP'}\n",
        "brasil = []\n",
        "\n",
        "brasil.append(estado1)\n",
        "brasil.append(estado2)\n",
        "print(brasil)"
      ],
      "metadata": {
        "colab": {
          "base_uri": "https://localhost:8080/"
        },
        "id": "jzPwubzCSY5P",
        "outputId": "e6f19fa4-3221-48e8-9da5-6531227cc0d8"
      },
      "execution_count": null,
      "outputs": [
        {
          "output_type": "stream",
          "name": "stdout",
          "text": [
            "[{'UF': 'São Paulo', 'Sigla': 'SP'}, {'UF': 'Minas Gerais', 'Sigla': 'SP'}]\n"
          ]
        }
      ]
    },
    {
      "cell_type": "code",
      "source": [
        "brasil[0]"
      ],
      "metadata": {
        "colab": {
          "base_uri": "https://localhost:8080/"
        },
        "id": "JmFDra2NTTCD",
        "outputId": "d0c11bcb-2e28-4282-9e71-a41548c5909d"
      },
      "execution_count": null,
      "outputs": [
        {
          "output_type": "execute_result",
          "data": {
            "text/plain": [
              "{'UF': 'São Paulo', 'Sigla': 'SP'}"
            ]
          },
          "metadata": {},
          "execution_count": 49
        }
      ]
    },
    {
      "cell_type": "code",
      "source": [
        "#Problemas com o append no dicionario\n",
        "\n",
        "estado=dict()\n",
        "brasil = list()\n",
        "\n",
        "for i in range (3):\n",
        "  estado['UF'] = input('UF: ')\n",
        "  estado['Sigla'] = input('Sigla: ')\n",
        "  brasil.append(estado)\n",
        "\n",
        "print(brasil)"
      ],
      "metadata": {
        "colab": {
          "base_uri": "https://localhost:8080/"
        },
        "id": "HqGDPm5pT9BB",
        "outputId": "881482e8-48d5-45fb-f511-c522c1b506ef"
      },
      "execution_count": null,
      "outputs": [
        {
          "output_type": "stream",
          "name": "stdout",
          "text": [
            "UF: SÃO PAULO\n",
            "Sigla: SP\n",
            "UF: RIO DE JANEIRO\n",
            "Sigla: J\n",
            "UF: RIO GRANDE DO SUL\n",
            "Sigla: RS\n",
            "[{'UF': 'RIO GRANDE DO SUL', 'Sigla': 'RS'}, {'UF': 'RIO GRANDE DO SUL', 'Sigla': 'RS'}, {'UF': 'RIO GRANDE DO SUL', 'Sigla': 'RS'}]\n"
          ]
        }
      ]
    },
    {
      "cell_type": "code",
      "source": [
        "Restado=dict()\n",
        "brasil = list()\n",
        "\n",
        "for i in range (3):\n",
        "  estado['UF'] = input('UF: ')\n",
        "  estado['Sigla'] = input('Sigla: ')\n",
        "  brasil.append(estado.copy())\n",
        "\n",
        "print(brasil)\n",
        "\n",
        "\n"
      ],
      "metadata": {
        "colab": {
          "base_uri": "https://localhost:8080/"
        },
        "id": "6-H1CmsKUc5g",
        "outputId": "253e8df9-afb6-4f76-bf55-5898638dbbb9"
      },
      "execution_count": null,
      "outputs": [
        {
          "output_type": "stream",
          "name": "stdout",
          "text": [
            "UF: SÃO PAULO\n",
            "Sigla: SP\n",
            "UF: RIO DE JANEIRO\n",
            "Sigla: RJ\n",
            "UF: RIO GRANDE DO SUL\n",
            "Sigla: RS\n",
            "[{'UF': 'SÃO PAULO', 'Sigla': 'SP'}, {'UF': 'RIO DE JANEIRO', 'Sigla': 'RJ'}, {'UF': 'RIO GRANDE DO SUL', 'Sigla': 'RS'}]\n"
          ]
        }
      ]
    },
    {
      "cell_type": "code",
      "source": [
        "#ITERANDO A LISTA E O DICIONARIO\n",
        "\n",
        "for estado in brasil:\n",
        "  for k,v in estado.items(): #iterando o dicionario\n",
        "    print(f'O campo {k} tem valor {v}')"
      ],
      "metadata": {
        "colab": {
          "base_uri": "https://localhost:8080/"
        },
        "id": "2dx_rhUiV_bY",
        "outputId": "c948f5a0-81a7-4607-c9a9-5d2862c26239"
      },
      "execution_count": null,
      "outputs": [
        {
          "output_type": "stream",
          "name": "stdout",
          "text": [
            "O campo UF tem valor SÃO PAULO\n",
            "O campo Sigla tem valor SP\n",
            "O campo UF tem valor RIO DE JANEIRO\n",
            "O campo Sigla tem valor RJ\n",
            "O campo UF tem valor RIO GRANDE DO SUL\n",
            "O campo Sigla tem valor RS\n"
          ]
        }
      ]
    },
    {
      "cell_type": "code",
      "source": [
        "#usando o get no dicionario\n",
        "\n",
        "pessoas2 = {'pedro': 10, 'bianca': 12, 'luiza': 15}"
      ],
      "metadata": {
        "id": "ezdKJFkZWqgm"
      },
      "execution_count": null,
      "outputs": []
    },
    {
      "cell_type": "code",
      "source": [
        "pessoas2.get('pedro')"
      ],
      "metadata": {
        "colab": {
          "base_uri": "https://localhost:8080/"
        },
        "id": "Gl3px74BWtZb",
        "outputId": "33163c8d-925f-408f-eecf-fa48a57eadda"
      },
      "execution_count": null,
      "outputs": [
        {
          "output_type": "execute_result",
          "data": {
            "text/plain": [
              "10"
            ]
          },
          "metadata": {},
          "execution_count": 68
        }
      ]
    },
    {
      "cell_type": "code",
      "source": [
        "if pessoas.get('Andrezinho'):\n",
        "  print('Contrato existente')\n",
        "else:\n",
        "  pessoas['Andrezinho'] = 45"
      ],
      "metadata": {
        "colab": {
          "base_uri": "https://localhost:8080/"
        },
        "id": "uaj1YX9jWw_L",
        "outputId": "041410d9-4f49-496f-d913-665c0d20bc2e"
      },
      "execution_count": null,
      "outputs": [
        {
          "output_type": "stream",
          "name": "stdout",
          "text": [
            "Contrato existente\n"
          ]
        }
      ]
    },
    {
      "cell_type": "markdown",
      "source": [
        "### CRIANDO UMA NOVA AGENDA COM UM DICIONARIO"
      ],
      "metadata": {
        "id": "-BMjLqm_YQ8t"
      }
    },
    {
      "cell_type": "code",
      "source": [
        "for i in range(5):\n",
        "  nome = input('Nome: ')\n",
        "  celular = int(input('Celular: '))\n",
        "  \n",
        "\n",
        "  if agenda.get(nome):\n",
        "    print(nome, ', contrato já existe!')\n",
        "  else:\n",
        "    agenda[nome] = celular\n",
        "\n",
        "for k, v in agenda.items():\n",
        "  print(f' {k}: {v}')"
      ],
      "metadata": {
        "id": "bN_ewQZ3Xhtq"
      },
      "execution_count": null,
      "outputs": []
    },
    {
      "cell_type": "code",
      "source": [],
      "metadata": {
        "id": "hVnirUxqbywC"
      },
      "execution_count": null,
      "outputs": []
    }
  ]
}
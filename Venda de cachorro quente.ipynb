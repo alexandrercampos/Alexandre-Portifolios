{
  "cells": [
    {
      "cell_type": "markdown",
      "metadata": {
        "id": "view-in-github",
        "colab_type": "text"
      },
      "source": [
        "<a href=\"https://colab.research.google.com/github/alexandrercampos/Alexandre-Portifolios/blob/main/Venda%20de%20cachorro%20quente.ipynb\" target=\"_parent\"><img src=\"https://colab.research.google.com/assets/colab-badge.svg\" alt=\"Open In Colab\"/></a>"
      ]
    },
    {
      "cell_type": "code",
      "execution_count": 1,
      "metadata": {
        "colab": {
          "base_uri": "https://localhost:8080/"
        },
        "id": "ej8VXj_IMEUt",
        "outputId": "e918bf8f-83cb-4102-8bdb-a9d880c6d76c"
      },
      "outputs": [
        {
          "output_type": "stream",
          "name": "stdout",
          "text": [
            "Digite o código do produto\n",
            "100\n",
            "Digite a quantidade desejada\n",
            "2\n",
            "Cachorro Quente\n",
            "Valor do produto é 20.00\n",
            "\n",
            "\n",
            "Deseja mais algum produto? S ou N:\n",
            "s\n",
            "Digite o código do produto\n",
            "101\n",
            "Digite a quantidade desejada\n",
            "1\n",
            "Refrigerante\n",
            "Valor do produto é 5.00\n",
            "\n",
            "\n",
            "Deseja mais algum produto? S ou N:\n",
            "n\n",
            "\n",
            "O valor total da compra é R$25.00\n"
          ]
        }
      ],
      "source": [
        "acum=0\n",
        "\n",
        "resp='S'\n",
        "\n",
        "\n",
        "\n",
        "while resp in 'Ss':\n",
        "\n",
        "  cod=int(input('Digite o código do produto\\n'))\n",
        "\n",
        "  qde=int(input('Digite a quantidade desejada\\n'))\n",
        "\n",
        "\n",
        "\n",
        "  if cod==100:\n",
        "\n",
        "    print('Cachorro Quente')\n",
        "\n",
        "    valor=qde*10.00\n",
        "\n",
        "  elif cod==101:\n",
        "\n",
        "    print('Refrigerante')\n",
        "\n",
        "    valor=qde*5.00\n",
        "\n",
        "  \n",
        "\n",
        "  print(f'Valor do produto é {valor:.2f}\\n')\n",
        "\n",
        "  acum+=valor\n",
        "\n",
        "\n",
        "\n",
        "  resp=str(input('\\nDeseja mais algum produto? S ou N:\\n')).upper().strip()[0]\n",
        "\n",
        "\n",
        "\n",
        "print(f'\\nO valor total da compra é R${acum:.2f}')"
      ]
    },
    {
      "cell_type": "code",
      "execution_count": null,
      "metadata": {
        "colab": {
          "background_save": true,
          "base_uri": "https://localhost:8080/"
        },
        "id": "hPcmZvvxGFHE",
        "outputId": "915ee7d6-6de0-4f39-97cc-19eb6102ea45"
      },
      "outputs": [
        {
          "name": "stdout",
          "output_type": "stream",
          "text": [
            "\n",
            "Existem 10 clientes na fila\n",
            "Fila atual: [1, 2, 3, 4, 5, 6, 7, 8, 9, 10]\n",
            "Digite F para adicionar um cliente ao fim da fila,\n",
            "ou A para realizar o atendimento. S para sair.\n"
          ]
        }
      ],
      "source": [
        "último = 10\n",
        "fila = list(range(1,último+1))\n",
        "while True:\n",
        "     print(\"\\nExistem %d clientes na fila\" % len(fila))\n",
        "     print(\"Fila atual:\", fila)\n",
        "     print(\"Digite F para adicionar um cliente ao fim da fila,\")\n",
        "     print(\"ou A para realizar o atendimento. S para sair.\")\n",
        "     operação = input(\"Operação (F, A ou S):\")\n",
        "     if operação == \"A\":\n",
        "         if(len(fila))>0:\n",
        "               atendido = fila.pop(0)\n",
        "               print(\"Cliente %d atendido\" % atendido)\n",
        "         else:\n",
        "               print(\"Fila vazia! Ninguém para atender.\")\n",
        "     elif operação == \"F\":\n",
        "         último += 1 # Increnta o ticket do novo cliente\n",
        "         fila.append(último)\n",
        "     elif operação == \"S\":\n",
        "         break\n",
        "     else:\n",
        "         print(\"Operação inválida! Digite apenas F, A ou S!\")"
      ]
    }
  ],
  "metadata": {
    "colab": {
      "provenance": [],
      "authorship_tag": "ABX9TyOwpJvNs0mJsepnTIETkn/9",
      "include_colab_link": true
    },
    "kernelspec": {
      "display_name": "Python 3",
      "name": "python3"
    },
    "language_info": {
      "name": "python"
    }
  },
  "nbformat": 4,
  "nbformat_minor": 0
}